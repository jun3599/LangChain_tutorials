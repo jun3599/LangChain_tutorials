{
 "cells": [
  {
   "cell_type": "markdown",
   "metadata": {},
   "source": [
    "# 랭체인 LangChain\n",
    "* LangChain 은 언어 모델을 활용해 다양한 애플리케이션을 개발할 수 있는 프레임워크를 말합니다. 이 프레임워크를 통해 언어 모델은 다음과 같은 기능을 수행할 수 있게 됩니다.\n",
    "\n",
    "- 문맥 인식 기능: LangChain은 언어 모델을 다양한 문맥 소스와 연결함. 여기에는 프롬프트 지시사항, 소수의 예시, 응답에 근거한 내용 등이 포함됨. 이를 통해 언어 모델은 제공된 정보를 기반으로 더 정확하고 관련성 높은 답변을 생성할 수 있음.\n",
    "- 추론하는 기능: 언어 모델은 주어진 문맥을 바탕으로 어떠한 답변을 제공하거나, 어떤 조치를 취해야 할지를 스스로 추론할 수 있음. 이는 언어 모델이 단순히 정보를 재생산하는 것을 넘어서,주어진 상황을 분석하고 적절한 해결책을 제시할 수 있음을 의미합니다. LangChain 을 활용하면 이전에 언급한 기능을 바탕으로 검색 증강 생성(RAG) 어플리케이션 제작, 구조화된 데이터 분석, 챗봇 등을 만들 수 있습니다."
   ]
  },
  {
   "cell_type": "markdown",
   "metadata": {},
   "source": [
    "## 환경 설정 \n",
    "* 권장 버전 python  \n",
    "\n",
    "* 이 프레임워크는 여러 부분으로 구성되어 있습니다.\n",
    "\n",
    "* LangChain 라이브러리: Python 및 JavaScript 라이브러리. 다양한 컴포넌트의 인터페이스와 통합, 이러한 컴포넌트를 체인과 에이전트로 결합하는 기본 런타임, 그리고 즉시 사용 가능한 체인과 에이전트의 구현을 포함합니다.\n",
    "* LangChain 템플릿: 다양한 작업을 위한 쉽게 배포할 수 있는 참조 아키텍처 모음입니다.\n",
    "* LangServe: LangChain 체인을 REST API로 배포하기 위한 라이브러리입니다.\n",
    "* LangSmith: 어떤 LLM 프레임워크에도 구축된 체인을 디버그, 테스트, 평가, 모니터링할 수 있게 해주며 LangChain과 원활하게 통합되는 개발자 플랫폼입니다.\n",
    "* LangGraph: LLM을 사용한 상태유지가 가능한 다중 액터 애플리케이션을 구축하기 위한 라이브러리로, LangChain 위에 구축되었으며 LangChain과 함께 사용하도록 설계되었습니다. 여러 계산 단계에서 다중 체인(또는 액터)을 순환 방식으로 조정할 수 있는 능력을 LangChain 표현 언어에 추가합니다.\n",
    "\n",
    "\n",
    "주요 모듈 📌\n",
    "모델 I/O 📃\n",
    "프롬프트 관리, 최적화 및 LLM과의 일반적인 인터페이스와 작업을 위한 유틸리티를 포함합니다.\n",
    "  \n",
    "검색 📚\n",
    "'데이터 강화 생성'에 초점을 맞춘 이 모듈은 생성 단계에서 필요한 데이터를 외부 데이터 소스에서 가져오는 작업을 담당합니다.\n",
    "  \n",
    "에이전트 🤖\n",
    "언어 모델이 어떤 조치를 취할지 결정하고, 해당 조치를 실행하며, 관찰하고, 필요한 경우 반복하는 과정을 포함합니다.\n",
    "LangChain을 활용하면, 언어 모델 기반 애플리케이션의 개발을 보다 쉽게 시작할 수 있으며, 필요에 맞게 기능을 맞춤 설정하고, 다양한 데이터 소스와 통합하여 복잡한 작업을 처리할 수 있게 됩니다."
   ]
  },
  {
   "cell_type": "code",
   "execution_count": null,
   "metadata": {},
   "outputs": [],
   "source": [
    "!pip install ../requirements.txt"
   ]
  },
  {
   "cell_type": "code",
   "execution_count": null,
   "metadata": {},
   "outputs": [],
   "source": [
    "!pip install ../requirements-mini.txt"
   ]
  },
  {
   "cell_type": "markdown",
   "metadata": {},
   "source": [
    "## LangSmith \n",
    "\n",
    "* LLM 앱 개발, 모니터링 및 테스트를 위한 플렛폼 \n",
    "* LLM프로젝트에 관한 추적 기능을 제공 \n",
    "- 추적은 다음과 같은 문제를 추적하는 데 도움이 될 수 있습니다.\n",
    "\n",
    "-- 예상치 못한 최종 결과\n",
    "-- 에이전트가 루핑되는 이유\n",
    "-- 체인이 예상보다 느린 이유\n",
    "-- 에이전트가 각 단계에서 사용한 토큰 수"
   ]
  },
  {
   "cell_type": "markdown",
   "metadata": {},
   "source": [
    "LangSmith API Key 발급\n",
    "https://smith.langchain.com/ 으로 접속하여 회원가입을 진행합니다.\n",
    "가입후 이메일 인증하는 절차를 진행해야 합니다.\n",
    "왼쪽 톱니바퀴(Setting) - 가운데 \"Personal\" - \"Create API Key\" 를 눌러 API 키를 발급 받습니다.\n",
    "Description 에 본인이 알 수 있는 설명을 넣고 Create API Key 버튼을 클릭하여 생성합니다.\n",
    "생성한 키를 복사한 뒤 다음 단계로 진행합니다.\n",
    "\n",
    "(주의!) 생성한 키를 유출하지 않도록 안전한 곳에 복사해 두세요.\n",
    "\n",
    ".env 에 LangSmith 키 설정\n",
    "먼저, .env 파일에 LangSmith 에서 발급받은 키와 프로젝트 정보를 입력합니다.\n",
    "\n",
    "LANGCHAIN_TRACING_V2: \"true\" 로 설정하면 추적을 시작합니다.\n",
    "LANGCHAIN_ENDPOINT: https://api.smith.langchain.com 변경하지 않습니다.\n",
    "LANGCHAIN_API_KEY: 이전 단계에서 발급받은 키 를 입력합니다.\n",
    "LANGCHAIN_PROJECT: 프로젝트 명 을 기입하면 해당 프로젝트 그룹으로 모든 실행(Run) 이 추적됩니다."
   ]
  }
 ],
 "metadata": {
  "language_info": {
   "name": "python"
  }
 },
 "nbformat": 4,
 "nbformat_minor": 2
}
